{
  "cells": [
    {
      "cell_type": "markdown",
      "metadata": {
        "id": "view-in-github",
        "colab_type": "text"
      },
      "source": [
        "<a href=\"https://colab.research.google.com/github/kavyaaa57/AIES_SENTIMENTAL_ANALYSIS/blob/main/Sentiment_Analysis.ipynb\" target=\"_parent\"><img src=\"https://colab.research.google.com/assets/colab-badge.svg\" alt=\"Open In Colab\"/></a>"
      ]
    },
    {
      "cell_type": "code",
      "execution_count": null,
      "metadata": {
        "colab": {
          "base_uri": "https://localhost:8080/"
        },
        "id": "YFnkp8kZPKfY",
        "outputId": "cec553f9-fa1b-4c2d-e5c2-a312dca75528"
      },
      "outputs": [
        {
          "output_type": "stream",
          "name": "stdout",
          "text": [
            "Mounted at /content/drive\n"
          ]
        }
      ],
      "source": [
        "from google.colab import drive\n",
        "drive.mount('/content/drive')"
      ]
    },
    {
      "cell_type": "code",
      "execution_count": null,
      "metadata": {
        "id": "tUSZ5n7Ic-aV"
      },
      "outputs": [],
      "source": [
        "import numpy as np\n",
        "import pandas as pd\n",
        "from sklearn.feature_extraction.text import CountVectorizer\n",
        "from keras.preprocessing.text import Tokenizer\n",
        "from keras.preprocessing.sequence import pad_sequences\n",
        "from keras.models import Sequential\n",
        "from keras.layers import Dense, Embedding, LSTM, SpatialDropout1D,SimpleRNN\n",
        "from sklearn.model_selection import train_test_split\n",
        "from keras.utils import to_categorical\n",
        "import re"
      ]
    },
    {
      "cell_type": "code",
      "execution_count": null,
      "metadata": {
        "id": "nr3xe7JMdjkl"
      },
      "outputs": [],
      "source": [
        "data = pd.read_csv('/content/drive/MyDrive/AIES/notes_workbook/Tweets.csv')\n",
        "data = data[['text','airline_sentiment']]"
      ]
    },
    {
      "cell_type": "code",
      "execution_count": null,
      "metadata": {
        "colab": {
          "base_uri": "https://localhost:8080/"
        },
        "id": "1e5R3cirdpzS",
        "outputId": "3e7ea84c-4738-4474-e226-b5f5d47d719b"
      },
      "outputs": [
        {
          "output_type": "stream",
          "name": "stderr",
          "text": [
            "<ipython-input-4-0b448f4f21f5>:6: SettingWithCopyWarning: \n",
            "A value is trying to be set on a copy of a slice from a DataFrame.\n",
            "Try using .loc[row_indexer,col_indexer] = value instead\n",
            "\n",
            "See the caveats in the documentation: https://pandas.pydata.org/pandas-docs/stable/user_guide/indexing.html#returning-a-view-versus-a-copy\n",
            "  data['text'] = data['text'].apply(lambda x: x.lower())\n",
            "<ipython-input-4-0b448f4f21f5>:7: SettingWithCopyWarning: \n",
            "A value is trying to be set on a copy of a slice from a DataFrame.\n",
            "Try using .loc[row_indexer,col_indexer] = value instead\n",
            "\n",
            "See the caveats in the documentation: https://pandas.pydata.org/pandas-docs/stable/user_guide/indexing.html#returning-a-view-versus-a-copy\n",
            "  data['text'] = data['text'].apply(lambda x: re.sub(r'[^a-zA-z0-9\\s]', '', x))\n",
            "<ipython-input-4-0b448f4f21f5>:8: SettingWithCopyWarning: \n",
            "A value is trying to be set on a copy of a slice from a DataFrame.\n",
            "Try using .loc[row_indexer,col_indexer] = value instead\n",
            "\n",
            "See the caveats in the documentation: https://pandas.pydata.org/pandas-docs/stable/user_guide/indexing.html#returning-a-view-versus-a-copy\n",
            "  data['text'] = data['text'].apply(lambda x: x.replace('rt', ''))\n"
          ]
        },
        {
          "output_type": "stream",
          "name": "stdout",
          "text": [
            "4726\n",
            "18356\n",
            "[[   0    0    0 ...    1    2  170]\n",
            " [   0    0    0 ...   53   25  469]\n",
            " [   0    0    0 ...  473   85   21]\n",
            " ...\n",
            " [   0    0    0 ...    8    1  479]\n",
            " [   0    0    0 ... 1618   44  911]\n",
            " [   0    0    0 ...   46  138   11]]\n"
          ]
        }
      ],
      "source": [
        "import pandas as pd\n",
        "import re\n",
        "from tensorflow.keras.preprocessing.text import Tokenizer\n",
        "from tensorflow.keras.preprocessing.sequence import pad_sequences\n",
        "data = data[data['airline_sentiment'] != \"neutral\"]\n",
        "data['text'] = data['text'].apply(lambda x: x.lower())\n",
        "data['text'] = data['text'].apply(lambda x: re.sub(r'[^a-zA-z0-9\\s]', '', x))\n",
        "data['text'] = data['text'].apply(lambda x: x.replace('rt', ''))\n",
        "max_features = 2000\n",
        "tokenizer = Tokenizer(num_words=max_features, split=' ')\n",
        "tokenizer.fit_on_texts(data['text'].values)\n",
        "X = tokenizer.texts_to_sequences(data['text'].values)\n",
        "X = pad_sequences(X)\n",
        "print(data[data['airline_sentiment'] == 'positive'].size)\n",
        "print(data[data['airline_sentiment'] == 'negative'].size)\n",
        "print(X)\n"
      ]
    },
    {
      "cell_type": "code",
      "execution_count": null,
      "metadata": {
        "id": "OLDUzV16ed16"
      },
      "outputs": [],
      "source": [
        "embed_dim = 128\n",
        "units = 196"
      ]
    },
    {
      "cell_type": "code",
      "execution_count": null,
      "metadata": {
        "id": "ZD0Oty4pSETl"
      },
      "outputs": [],
      "source": [
        "rnn_model = Sequential()\n",
        "rnn_model.add(Embedding(max_features, embed_dim, input_length=X.shape[1]))\n",
        "rnn_model.add(SpatialDropout1D(0.4))\n",
        "rnn_model.add(SimpleRNN(units, dropout=0.2, recurrent_dropout=0.2))\n",
        "rnn_model.add(Dense(2, activation='softmax'))\n",
        "rnn_model.compile(loss='categorical_crossentropy', optimizer='adam', metrics=['accuracy'])"
      ]
    },
    {
      "cell_type": "code",
      "execution_count": null,
      "metadata": {
        "colab": {
          "base_uri": "https://localhost:8080/"
        },
        "id": "N43a6VWKSJy9",
        "outputId": "c38c1e88-5f02-4a8c-a09b-d36d71753a67"
      },
      "outputs": [
        {
          "output_type": "stream",
          "name": "stdout",
          "text": [
            "Model: \"sequential\"\n",
            "_________________________________________________________________\n",
            " Layer (type)                Output Shape              Param #   \n",
            "=================================================================\n",
            " embedding (Embedding)       (None, 32, 128)           256000    \n",
            "                                                                 \n",
            " spatial_dropout1d (Spatial  (None, 32, 128)           0         \n",
            " Dropout1D)                                                      \n",
            "                                                                 \n",
            " simple_rnn (SimpleRNN)      (None, 196)               63700     \n",
            "                                                                 \n",
            " dense (Dense)               (None, 2)                 394       \n",
            "                                                                 \n",
            "=================================================================\n",
            "Total params: 320094 (1.22 MB)\n",
            "Trainable params: 320094 (1.22 MB)\n",
            "Non-trainable params: 0 (0.00 Byte)\n",
            "_________________________________________________________________\n"
          ]
        }
      ],
      "source": [
        "rnn_model.summary()"
      ]
    },
    {
      "cell_type": "code",
      "execution_count": null,
      "metadata": {
        "id": "EvhgeKndeJ2C"
      },
      "outputs": [],
      "source": [
        "model = Sequential()\n",
        "model.add(Embedding(max_features, embed_dim,input_length = X.shape[1]))\n",
        "model.add(SpatialDropout1D(0.4))\n",
        "model.add(LSTM(units, dropout=0.2, recurrent_dropout=0.2))\n",
        "model.add(Dense(2,activation='softmax'))\n",
        "model.compile(loss = 'categorical_crossentropy', optimizer='adam',metrics = ['accuracy'])"
      ]
    },
    {
      "cell_type": "code",
      "execution_count": null,
      "metadata": {
        "colab": {
          "base_uri": "https://localhost:8080/"
        },
        "id": "MHIBXofweO6_",
        "outputId": "3a6e0d10-832d-409f-9e65-2d51441a3cc7"
      },
      "outputs": [
        {
          "output_type": "stream",
          "name": "stdout",
          "text": [
            "Model: \"sequential_1\"\n",
            "_________________________________________________________________\n",
            " Layer (type)                Output Shape              Param #   \n",
            "=================================================================\n",
            " embedding_1 (Embedding)     (None, 32, 128)           256000    \n",
            "                                                                 \n",
            " spatial_dropout1d_1 (Spati  (None, 32, 128)           0         \n",
            " alDropout1D)                                                    \n",
            "                                                                 \n",
            " lstm (LSTM)                 (None, 196)               254800    \n",
            "                                                                 \n",
            " dense_1 (Dense)             (None, 2)                 394       \n",
            "                                                                 \n",
            "=================================================================\n",
            "Total params: 511194 (1.95 MB)\n",
            "Trainable params: 511194 (1.95 MB)\n",
            "Non-trainable params: 0 (0.00 Byte)\n",
            "_________________________________________________________________\n"
          ]
        }
      ],
      "source": [
        "model.summary()"
      ]
    },
    {
      "cell_type": "code",
      "execution_count": null,
      "metadata": {
        "colab": {
          "base_uri": "https://localhost:8080/"
        },
        "id": "nmkmYFNseg50",
        "outputId": "0796ee6c-95b5-4940-c7fe-996a7f5684d3"
      },
      "outputs": [
        {
          "output_type": "stream",
          "name": "stdout",
          "text": [
            "(7732, 32) (7732, 2)\n",
            "(3809, 32) (3809, 2)\n"
          ]
        }
      ],
      "source": [
        "Y = pd.get_dummies(data['airline_sentiment']).values\n",
        "X_train, X_test, Y_train, Y_test = train_test_split(X,Y, test_size = 0.33, random_state = 42)\n",
        "print(X_train.shape,Y_train.shape)\n",
        "print(X_test.shape,Y_test.shape)"
      ]
    },
    {
      "cell_type": "code",
      "execution_count": null,
      "metadata": {
        "colab": {
          "base_uri": "https://localhost:8080/"
        },
        "id": "98Ejty54QbEu",
        "outputId": "83b83eea-ae18-4301-e46d-9f92a0faf04c"
      },
      "outputs": [
        {
          "output_type": "stream",
          "name": "stdout",
          "text": [
            "Epoch 1/7\n",
            "242/242 - 44s - loss: 0.3334 - accuracy: 0.8646 - 44s/epoch - 182ms/step\n",
            "Epoch 2/7\n",
            "242/242 - 41s - loss: 0.1784 - accuracy: 0.9296 - 41s/epoch - 168ms/step\n",
            "Epoch 3/7\n",
            "242/242 - 40s - loss: 0.1396 - accuracy: 0.9483 - 40s/epoch - 164ms/step\n",
            "Epoch 4/7\n",
            "242/242 - 39s - loss: 0.1145 - accuracy: 0.9580 - 39s/epoch - 159ms/step\n",
            "Epoch 5/7\n",
            "242/242 - 39s - loss: 0.0955 - accuracy: 0.9640 - 39s/epoch - 160ms/step\n",
            "Epoch 6/7\n",
            "242/242 - 40s - loss: 0.0784 - accuracy: 0.9670 - 40s/epoch - 164ms/step\n",
            "Epoch 7/7\n",
            "242/242 - 40s - loss: 0.0673 - accuracy: 0.9741 - 40s/epoch - 163ms/step\n"
          ]
        },
        {
          "output_type": "execute_result",
          "data": {
            "text/plain": [
              "<keras.src.callbacks.History at 0x7e0ba2d0ce20>"
            ]
          },
          "metadata": {},
          "execution_count": 11
        }
      ],
      "source": [
        "batch_size = 32\n",
        "model.fit(X_train, Y_train, epochs = 7, batch_size=batch_size, verbose = 2)"
      ]
    },
    {
      "cell_type": "code",
      "execution_count": null,
      "metadata": {
        "colab": {
          "base_uri": "https://localhost:8080/"
        },
        "id": "hCPNh3inQhA0",
        "outputId": "15a58145-ddf3-4e7d-8328-d12ced15383d"
      },
      "outputs": [
        {
          "output_type": "stream",
          "name": "stdout",
          "text": [
            "Epoch 1/7\n",
            "242/242 - 8s - loss: 0.5137 - accuracy: 0.7892 - 8s/epoch - 33ms/step\n",
            "Epoch 2/7\n",
            "242/242 - 8s - loss: 0.3495 - accuracy: 0.8557 - 8s/epoch - 33ms/step\n",
            "Epoch 3/7\n",
            "242/242 - 6s - loss: 0.2563 - accuracy: 0.8983 - 6s/epoch - 26ms/step\n",
            "Epoch 4/7\n",
            "242/242 - 8s - loss: 0.1884 - accuracy: 0.9250 - 8s/epoch - 33ms/step\n",
            "Epoch 5/7\n",
            "242/242 - 6s - loss: 0.1639 - accuracy: 0.9400 - 6s/epoch - 27ms/step\n",
            "Epoch 6/7\n",
            "242/242 - 8s - loss: 0.1303 - accuracy: 0.9525 - 8s/epoch - 33ms/step\n",
            "Epoch 7/7\n",
            "242/242 - 6s - loss: 0.1377 - accuracy: 0.9512 - 6s/epoch - 27ms/step\n"
          ]
        },
        {
          "output_type": "execute_result",
          "data": {
            "text/plain": [
              "<keras.src.callbacks.History at 0x7e0ba0039750>"
            ]
          },
          "metadata": {},
          "execution_count": 12
        }
      ],
      "source": [
        "rnn_model.fit(X_train, Y_train, epochs = 7, batch_size=batch_size, verbose = 2)"
      ]
    },
    {
      "cell_type": "code",
      "execution_count": null,
      "metadata": {
        "colab": {
          "base_uri": "https://localhost:8080/"
        },
        "id": "d9dd8fgVQm0c",
        "outputId": "091be1df-fa88-4bef-c445-10ddff5a6479"
      },
      "outputs": [
        {
          "output_type": "stream",
          "name": "stdout",
          "text": [
            "120/120 - 3s - loss: 0.3200 - accuracy: 0.9118 - 3s/epoch - 23ms/step\n"
          ]
        },
        {
          "output_type": "execute_result",
          "data": {
            "text/plain": [
              "[0.3199610114097595, 0.9117878675460815]"
            ]
          },
          "metadata": {},
          "execution_count": 13
        }
      ],
      "source": [
        "model.evaluate(X_test, Y_test, verbose = 2, batch_size = batch_size)"
      ]
    },
    {
      "cell_type": "code",
      "execution_count": null,
      "metadata": {
        "colab": {
          "base_uri": "https://localhost:8080/"
        },
        "id": "n23KHyMEQ0y4",
        "outputId": "e46bbe62-cde5-4c45-ddd7-ef799dcce5a5"
      },
      "outputs": [
        {
          "output_type": "stream",
          "name": "stdout",
          "text": [
            "Enter the text (or type 'quit' to exit): hi\n",
            "1/1 - 0s - 284ms/epoch - 284ms/step\n",
            "Positive\n",
            "Enter the text (or type 'quit' to exit): you are spending most of your time in social media\n",
            "1/1 - 0s - 35ms/epoch - 35ms/step\n",
            "Negative\n",
            "Enter the text (or type 'quit' to exit): you like studying but still chose to not study\n",
            "1/1 - 0s - 32ms/epoch - 32ms/step\n",
            "Negative\n",
            "Enter the text (or type 'quit' to exit): the coffee is too hot to drink\n",
            "1/1 - 0s - 59ms/epoch - 59ms/step\n",
            "Positive\n",
            "Enter the text (or type 'quit' to exit): the series is taking too long to execute\n",
            "1/1 - 0s - 58ms/epoch - 58ms/step\n",
            "Negative\n",
            "Enter the text (or type 'quit' to exit): i hate books but now I am used to it\n",
            "1/1 - 0s - 61ms/epoch - 61ms/step\n",
            "Negative\n",
            "Enter the text (or type 'quit' to exit): I hate books but now I adore them\n",
            "1/1 - 0s - 32ms/epoch - 32ms/step\n",
            "Negative\n",
            "Enter the text (or type 'quit' to exit): tamil is old language\n",
            "1/1 - 0s - 59ms/epoch - 59ms/step\n",
            "Negative\n",
            "Enter the text (or type 'quit' to exit): richer are richer and poor are poorer\n",
            "1/1 - 0s - 32ms/epoch - 32ms/step\n",
            "Negative\n",
            "Enter the text (or type 'quit' to exit): quit\n",
            "Exiting...\n"
          ]
        }
      ],
      "source": [
        "import numpy as np\n",
        "from tensorflow.keras.preprocessing.sequence import pad_sequences\n",
        "while True:\n",
        "    text = input(\"Enter the text (or type 'quit' to exit): \")\n",
        "\n",
        "    if text.lower() == 'quit':\n",
        "        print(\"Exiting...\")\n",
        "        break\n",
        "\n",
        "    text_sequence = tokenizer.texts_to_sequences([text])\n",
        "    text_sequence = pad_sequences(text_sequence, maxlen=32, dtype='int32', value=0)\n",
        "\n",
        "    airline_sentiment = model.predict(text_sequence, batch_size=1, verbose=2)[0]\n",
        "    predicted_class = np.argmax(airline_sentiment)\n",
        "\n",
        "    if predicted_class == 0:\n",
        "        print(\"Negative\")\n",
        "    elif predicted_class == 1:\n",
        "        print(\"Positive\")\n"
      ]
    }
  ],
  "metadata": {
    "colab": {
      "provenance": [],
      "authorship_tag": "ABX9TyPmDxaTabn30jKueWE5zrlS",
      "include_colab_link": true
    },
    "kernelspec": {
      "display_name": "Python 3",
      "name": "python3"
    },
    "language_info": {
      "name": "python"
    }
  },
  "nbformat": 4,
  "nbformat_minor": 0
}